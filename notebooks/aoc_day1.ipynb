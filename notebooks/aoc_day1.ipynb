{
  "nbformat": 4,
  "nbformat_minor": 0,
  "metadata": {
    "colab": {
      "name": "aoc_day1.ipynb",
      "provenance": [],
      "mount_file_id": "1Y8p867UCywczZOS7EEILI0H2ElE219a7",
      "authorship_tag": "ABX9TyPhUe9FrjS999vU8XgEpJU6",
      "include_colab_link": true
    },
    "kernelspec": {
      "name": "python3",
      "display_name": "Python 3"
    },
    "language_info": {
      "name": "python"
    }
  },
  "cells": [
    {
      "cell_type": "markdown",
      "metadata": {
        "id": "view-in-github",
        "colab_type": "text"
      },
      "source": [
        "<a href=\"https://colab.research.google.com/github/cubicles/aoc2021/blob/main/aoc_day1.ipynb\" target=\"_parent\"><img src=\"https://colab.research.google.com/assets/colab-badge.svg\" alt=\"Open In Colab\"/></a>"
      ]
    },
    {
      "cell_type": "code",
      "metadata": {
        "colab": {
          "base_uri": "https://localhost:8080/"
        },
        "id": "k8yRHa6vJCeC",
        "outputId": "efaf47c7-80c7-43b9-84b8-0e2064402001"
      },
      "source": [
        "from google.colab import drive\n",
        "drive.mount('/content/drive')"
      ],
      "execution_count": 26,
      "outputs": [
        {
          "output_type": "stream",
          "name": "stdout",
          "text": [
            "Drive already mounted at /content/drive; to attempt to forcibly remount, call drive.mount(\"/content/drive\", force_remount=True).\n"
          ]
        }
      ]
    },
    {
      "cell_type": "code",
      "metadata": {
        "colab": {
          "base_uri": "https://localhost:8080/"
        },
        "id": "PaELj8OBJO20",
        "outputId": "71217c44-5351-4b65-e3e2-5e42dcc6f55e"
      },
      "source": [
        "%time\n",
        "filename = '/content/drive/MyDrive/aoc2021/day1.txt'\n",
        "\n",
        "# Part 1\n",
        "\n",
        "max = 0\n",
        "c = 0\n",
        "with open(filename) as file:\n",
        "    for line in file:\n",
        "        if int(line) > max:\n",
        "          c += 1\n",
        "        max = int(line)\n",
        "\n",
        "\n",
        "print(c-1)        "
      ],
      "execution_count": 35,
      "outputs": [
        {
          "output_type": "stream",
          "name": "stdout",
          "text": [
            "CPU times: user 4 µs, sys: 0 ns, total: 4 µs\n",
            "Wall time: 8.34 µs\n",
            "1564\n"
          ]
        }
      ]
    },
    {
      "cell_type": "code",
      "metadata": {
        "colab": {
          "base_uri": "https://localhost:8080/"
        },
        "id": "ShzuVqqfKZ8-",
        "outputId": "55f550a1-5701-4474-a445-54e2966fdd46"
      },
      "source": [
        "%time\n",
        "# Part 2\n",
        "\n",
        "# A: 1, 2, 3\n",
        "# B: 2, 3, 4\n",
        "# C: 3, 4, 5\n",
        "# ....\n",
        "\n",
        "entry_list = []\n",
        "with open(filename) as file:\n",
        "  for line in file:\n",
        "    entry_list.append(int(line))\n",
        "\n",
        "comparison_list = []\n",
        "n = 0\n",
        "while((n+2) <= len(entry_list)-1):\n",
        "  comparison_list.append(entry_list[n] + entry_list[n+1] + entry_list[n+2])\n",
        "  n += 1\n",
        "\n",
        "max = 0\n",
        "c = 0\n",
        "for e in comparison_list:\n",
        "    if e > max:\n",
        "      c += 1\n",
        "    max = e\n",
        "\n",
        "print(c-1)"
      ],
      "execution_count": 24,
      "outputs": [
        {
          "output_type": "stream",
          "name": "stdout",
          "text": [
            "CPU times: user 3 µs, sys: 0 ns, total: 3 µs\n",
            "Wall time: 9.06 µs\n",
            "1611\n"
          ]
        }
      ]
    },
    {
      "cell_type": "code",
      "metadata": {
        "id": "zl0jWfzLMDpw"
      },
      "source": [
        ""
      ],
      "execution_count": null,
      "outputs": []
    }
  ]
}