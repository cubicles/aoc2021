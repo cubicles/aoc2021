{
  "nbformat": 4,
  "nbformat_minor": 0,
  "metadata": {
    "colab": {
      "name": "aoc_day3.ipynb",
      "provenance": [],
      "authorship_tag": "ABX9TyOB+GCpvZZhmKJBdQpftrv+",
      "include_colab_link": true
    },
    "kernelspec": {
      "name": "python3",
      "display_name": "Python 3"
    },
    "language_info": {
      "name": "python"
    }
  },
  "cells": [
    {
      "cell_type": "markdown",
      "metadata": {
        "id": "view-in-github",
        "colab_type": "text"
      },
      "source": [
        "<a href=\"https://colab.research.google.com/github/cubicles/aoc2021/blob/main/aoc_day3.ipynb\" target=\"_parent\"><img src=\"https://colab.research.google.com/assets/colab-badge.svg\" alt=\"Open In Colab\"/></a>"
      ]
    },
    {
      "cell_type": "code",
      "metadata": {
        "id": "u0bnY_2v0YgP",
        "colab": {
          "base_uri": "https://localhost:8080/"
        },
        "outputId": "3c27e899-0ce2-4aae-d0d7-76b744d03a7c"
      },
      "source": [
        "from google.colab import drive\n",
        "drive.mount('/content/drive', force_remount= True)"
      ],
      "execution_count": null,
      "outputs": [
        {
          "output_type": "stream",
          "name": "stdout",
          "text": [
            "Mounted at /content/drive\n"
          ]
        }
      ]
    },
    {
      "cell_type": "code",
      "metadata": {
        "colab": {
          "base_uri": "https://localhost:8080/"
        },
        "id": "EhY3Na7p2lzX",
        "outputId": "fbf78227-d065-4c53-bf1f-ed07ac702da8"
      },
      "source": [
        "%time\n",
        "filename = '/content/drive/MyDrive/aoc2021/day3.txt'\n",
        "# Part 1\n",
        "\n",
        "with open(filename) as file:\n",
        "    for line in file:\n",
        "      length = len(line)\n",
        "      break\n",
        "\n",
        "dict_0 = dict.fromkeys(range(length - 1),0)\n",
        "dict_1 = dict.fromkeys(range(length - 1),0)\n",
        "\n",
        "with open(filename) as file:\n",
        "    for line in file: \n",
        "      for e in range(len(line)-1):\n",
        "        if line[e] == '0':\n",
        "          dict_0[e] = dict_0[e] + 1\n",
        "        elif line[e] == '1':\n",
        "          dict_1[e] = dict_1[e] + 1\n",
        "\n",
        "gamma = []\n",
        "epsilon = []\n",
        "\n",
        "for i in range(length - 1):\n",
        "  if dict_0[i] > dict_1[i]:\n",
        "    gamma.append('0')\n",
        "  else:\n",
        "    gamma.append('1')\n",
        "\n",
        "for i in range(length - 1):\n",
        "  if dict_0[i] > dict_1[i]:\n",
        "    epsilon.append('1')\n",
        "  else:\n",
        "    epsilon.append('0')\n",
        "\n",
        "gamma_binary = ''.join(gamma)\n",
        "epsilon_binary = ''.join(epsilon)\n",
        "\n",
        "gamma_ratio = int(gamma_binary, 2)\n",
        "epsilon_ratio = int(epsilon_binary, 2)\n",
        "print(gamma_ratio * epsilon_ratio)"
      ],
      "execution_count": 99,
      "outputs": [
        {
          "output_type": "stream",
          "name": "stdout",
          "text": [
            "CPU times: user 2 µs, sys: 0 ns, total: 2 µs\n",
            "Wall time: 5.48 µs\n",
            "841526\n"
          ]
        }
      ]
    },
    {
      "cell_type": "code",
      "metadata": {
        "colab": {
          "base_uri": "https://localhost:8080/"
        },
        "id": "AA2hD9it6yhV",
        "outputId": "7b1a9638-78b5-43fd-c39d-4bc12f182218"
      },
      "source": [
        "%time\n",
        "# Part 2\n",
        "\n",
        "array_2d = []\n",
        "with open(filename) as file:\n",
        "    for line in file:\n",
        "      array_2d.append((line))\n",
        "\n",
        "def comparator_0_1(the_array):\n",
        "  dict_0 = dict.fromkeys(range(len(the_array[0])-1),0)\n",
        "  dict_1 = dict.fromkeys(range(len(the_array[0])-1),0)\n",
        "\n",
        "  for item in the_array: \n",
        "      for e in range(len(item)-1):\n",
        "        if item[e] == '0':\n",
        "          dict_0[e] = dict_0[e] + 1\n",
        "        elif item[e] == '1':\n",
        "          dict_1[e] = dict_1[e] + 1\n",
        "  return dict_0, dict_1\n",
        "\n",
        "def get_oxy(array_2d, n):\n",
        "  if len(array_2d) == 1:\n",
        "    return array_2d[0]\n",
        "  else:\n",
        "    d_0, d_1 = comparator_0_1(array_2d)\n",
        "    if d_0[n] > d_1[n]:\n",
        "      new_array = [e for e in array_2d if e[n] == '0']\n",
        "    else: \n",
        "      new_array = [e for e in array_2d if e[n] == '1']\n",
        "  return get_oxy(new_array, n+1)\n",
        "\n",
        "oxy = int(get_oxy(array_2d, 0),2)\n",
        "\n",
        "def get_co2(array_2d, n):\n",
        "  if len(array_2d) == 1:\n",
        "    return array_2d[0]\n",
        "  else:\n",
        "    d_0, d_1 = comparator_0_1(array_2d)\n",
        "    if d_0[n] <= d_1[n]:\n",
        "      new_array = [e for e in array_2d if e[n] == '0']\n",
        "    else: \n",
        "      new_array = [e for e in array_2d if e[n] == '1']\n",
        "  return get_co2(new_array, n+1)\n",
        "\n",
        "co2 = int(get_co2(array_2d, 0),2)\n",
        "\n",
        "print(oxy * co2)"
      ],
      "execution_count": 102,
      "outputs": [
        {
          "output_type": "stream",
          "name": "stdout",
          "text": [
            "CPU times: user 3 µs, sys: 0 ns, total: 3 µs\n",
            "Wall time: 5.25 µs\n",
            "4790390\n"
          ]
        }
      ]
    },
    {
      "cell_type": "code",
      "metadata": {
        "id": "sEyqwv0jFto_"
      },
      "source": [
        ""
      ],
      "execution_count": null,
      "outputs": []
    }
  ]
}