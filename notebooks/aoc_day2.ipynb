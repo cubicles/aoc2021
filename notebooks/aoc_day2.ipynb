{
  "nbformat": 4,
  "nbformat_minor": 0,
  "metadata": {
    "colab": {
      "name": "aoc_day2.ipynb",
      "provenance": [],
      "authorship_tag": "ABX9TyN4BLPadOQ3mleS5vX2qNc1",
      "include_colab_link": true
    },
    "kernelspec": {
      "name": "python3",
      "display_name": "Python 3"
    },
    "language_info": {
      "name": "python"
    }
  },
  "cells": [
    {
      "cell_type": "markdown",
      "metadata": {
        "id": "view-in-github",
        "colab_type": "text"
      },
      "source": [
        "<a href=\"https://colab.research.google.com/github/cubicles/aoc2021/blob/main/aoc_day2.ipynb\" target=\"_parent\"><img src=\"https://colab.research.google.com/assets/colab-badge.svg\" alt=\"Open In Colab\"/></a>"
      ]
    },
    {
      "cell_type": "code",
      "metadata": {
        "id": "FTbRxhpBJZ_S",
        "colab": {
          "base_uri": "https://localhost:8080/"
        },
        "outputId": "1b8e3a01-7486-4acd-e40d-167e80ddcf18"
      },
      "source": [
        "from google.colab import drive\n",
        "drive.mount('/content/drive', force_remount= True)"
      ],
      "execution_count": 1,
      "outputs": [
        {
          "output_type": "stream",
          "name": "stdout",
          "text": [
            "Mounted at /content/drive\n"
          ]
        }
      ]
    },
    {
      "cell_type": "code",
      "metadata": {
        "colab": {
          "base_uri": "https://localhost:8080/"
        },
        "id": "6DAJDIwtK8tO",
        "outputId": "c6218d63-6b06-4e94-cb7a-182f6ad770b3"
      },
      "source": [
        "%time\n",
        "filename = '/content/drive/MyDrive/aoc2021/day2.txt'\n",
        "# Part 1\n",
        "\n",
        "depth = 0\n",
        "horiz = 0\n",
        "\n",
        "with open(filename) as file:\n",
        "    for line in file:  \n",
        "      code = line.split(\" \")\n",
        "      if (code[0] == 'up'):\n",
        "        depth = depth - int(code[1])\n",
        "        if depth <= 0:\n",
        "          depth = 0\n",
        "      if (code[0] == 'down'):\n",
        "        depth = depth + int(code[1])\n",
        "      if (code[0] == 'forward'):\n",
        "        horiz = horiz + int(code[1])\n",
        "\n",
        "print(horiz * depth)"
      ],
      "execution_count": 13,
      "outputs": [
        {
          "output_type": "stream",
          "name": "stdout",
          "text": [
            "CPU times: user 3 µs, sys: 0 ns, total: 3 µs\n",
            "Wall time: 7.63 µs\n",
            "1693300\n"
          ]
        }
      ]
    },
    {
      "cell_type": "code",
      "metadata": {
        "colab": {
          "base_uri": "https://localhost:8080/"
        },
        "id": "OissJnl6OjNU",
        "outputId": "fd8db681-5544-49e7-92dd-79cf0cf1de54"
      },
      "source": [
        "%time\n",
        "# Part 2\n",
        "\n",
        "depth = 0\n",
        "horiz = 0\n",
        "aim = 0\n",
        "\n",
        "with open(filename) as file:\n",
        "  for line in file:\n",
        "    code = line.split(\" \")\n",
        "    if (code[0] == 'up'):\n",
        "      aim = aim - int(code[1])\n",
        "      if aim <= 0:\n",
        "        aim = 0\n",
        "    if (code[0] == 'down'):\n",
        "      aim = aim + int(code[1])\n",
        "    if (code[0] == 'forward'):\n",
        "      horiz = horiz + int(code[1])\n",
        "      depth = depth + aim * int(code[1])\n",
        "\n",
        "print(horiz * depth)"
      ],
      "execution_count": 14,
      "outputs": [
        {
          "output_type": "stream",
          "name": "stdout",
          "text": [
            "CPU times: user 2 µs, sys: 0 ns, total: 2 µs\n",
            "Wall time: 5.25 µs\n",
            "1857958050\n"
          ]
        }
      ]
    },
    {
      "cell_type": "code",
      "metadata": {
        "id": "O6qUXTMNQ94D"
      },
      "source": [
        ""
      ],
      "execution_count": null,
      "outputs": []
    }
  ]
}