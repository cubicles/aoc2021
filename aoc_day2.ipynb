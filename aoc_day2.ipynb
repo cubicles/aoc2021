{
  "nbformat": 4,
  "nbformat_minor": 0,
  "metadata": {
    "colab": {
      "name": "aoc_day2.ipynb",
      "provenance": [],
      "authorship_tag": "ABX9TyMt5aU4XPvjQ/fZ6a4GivGK",
      "include_colab_link": true
    },
    "kernelspec": {
      "name": "python3",
      "display_name": "Python 3"
    },
    "language_info": {
      "name": "python"
    }
  },
  "cells": [
    {
      "cell_type": "markdown",
      "metadata": {
        "id": "view-in-github",
        "colab_type": "text"
      },
      "source": [
        "<a href=\"https://colab.research.google.com/github/cubicles/aoc2021/blob/main/aoc_day2.ipynb\" target=\"_parent\"><img src=\"https://colab.research.google.com/assets/colab-badge.svg\" alt=\"Open In Colab\"/></a>"
      ]
    },
    {
      "cell_type": "code",
      "metadata": {
        "id": "FTbRxhpBJZ_S",
        "colab": {
          "base_uri": "https://localhost:8080/"
        },
        "outputId": "1b8e3a01-7486-4acd-e40d-167e80ddcf18"
      },
      "source": [
        "from google.colab import drive\n",
        "drive.mount('/content/drive', force_remount= True)"
      ],
      "execution_count": 1,
      "outputs": [
        {
          "output_type": "stream",
          "name": "stdout",
          "text": [
            "Mounted at /content/drive\n"
          ]
        }
      ]
    },
    {
      "cell_type": "code",
      "metadata": {
        "colab": {
          "base_uri": "https://localhost:8080/"
        },
        "id": "6DAJDIwtK8tO",
        "outputId": "5327a88b-2477-44fd-b4ed-05e5049604dd"
      },
      "source": [
        "%time\n",
        "filename = '/content/drive/MyDrive/aoc2021/day2.txt'\n",
        "# Part 1\n",
        "\n",
        "depth = 0\n",
        "horiz = 0\n",
        "\n",
        "\n",
        "with open(filename) as file:\n",
        "    for line in file:  \n",
        "      code = line.split(\" \")\n",
        "      if (code[0] == 'up'):\n",
        "        depth = depth - int(code[1])\n",
        "        if depth <= 0:\n",
        "          depth = 0\n",
        "      if (code[0] == 'down'):\n",
        "        depth = depth + int(code[1])\n",
        "      if (code[0] == 'forward'):\n",
        "        horiz = horiz + int(code[1])\n",
        "\n",
        "print(depth)\n",
        "print(horiz * depth)"
      ],
      "execution_count": 8,
      "outputs": [
        {
          "output_type": "stream",
          "name": "stdout",
          "text": [
            "CPU times: user 4 µs, sys: 0 ns, total: 4 µs\n",
            "Wall time: 8.58 µs\n",
            "826\n",
            "1693300\n"
          ]
        }
      ]
    },
    {
      "cell_type": "code",
      "metadata": {
        "id": "OissJnl6OjNU"
      },
      "source": [
        "# Part 2\n"
      ],
      "execution_count": null,
      "outputs": []
    }
  ]
}